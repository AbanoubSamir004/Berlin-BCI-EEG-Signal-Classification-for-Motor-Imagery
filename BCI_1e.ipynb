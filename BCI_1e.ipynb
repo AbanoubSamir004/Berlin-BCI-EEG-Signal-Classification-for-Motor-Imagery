{
 "cells": [
  {
   "cell_type": "markdown",
   "id": "d2a1d9da",
   "metadata": {},
   "source": [
    "# Imports"
   ]
  },
  {
   "cell_type": "code",
   "execution_count": 1,
   "id": "334f9eeb",
   "metadata": {},
   "outputs": [
    {
     "name": "stdout",
     "output_type": "stream",
     "text": [
      "Populating the interactive namespace from numpy and matplotlib\n"
     ]
    }
   ],
   "source": [
    "%pylab inline\n",
    "import numpy as np\n",
    "import scipy.io\n",
    "import warnings\n",
    "\n",
    "# Suppress the warning\n",
    "warnings.filterwarnings(\"ignore\", category=UserWarning)\n",
    "from sklearn.metrics import accuracy_score\n",
    "from matplotlib import mlab\n",
    "import matplotlib.pyplot as plt\n",
    "import scipy.signal \n",
    "from sklearn.model_selection import train_test_split,KFold\n",
    "from sklearn.linear_model import LogisticRegression\n"
   ]
  },
  {
   "cell_type": "markdown",
   "id": "8a2916d1",
   "metadata": {},
   "source": [
    "# Loading data"
   ]
  },
  {
   "cell_type": "code",
   "execution_count": 2,
   "id": "4aba1249",
   "metadata": {},
   "outputs": [],
   "source": [
    "m = scipy.io.loadmat(\"E:\\Downloads\\BCICIV_1_mat\\BCICIV_calib_ds1e.mat\", struct_as_record=True)"
   ]
  },
  {
   "cell_type": "code",
   "execution_count": 3,
   "id": "781a3aa2",
   "metadata": {},
   "outputs": [],
   "source": [
    "sample_rate = m['nfo']['fs'][0][0][0][0]\n",
    "EEG = m['cnt'].T\n",
    "nchannels, nsamples = EEG.shape"
   ]
  },
  {
   "cell_type": "code",
   "execution_count": 4,
   "id": "0160360e",
   "metadata": {},
   "outputs": [],
   "source": [
    "\n",
    "channel_names = [s[0] for s in m['nfo']['clab'][0][0][0]]\n",
    "event_onsets = m['mrk'][0][0][0]\n",
    "event_codes = m['mrk'][0][0][1]\n",
    "labels = np.zeros((1, nsamples), int)\n",
    "labels[0, event_onsets] = event_codes #put 1 3nd l onsets"
   ]
  },
  {
   "cell_type": "code",
   "execution_count": 5,
   "id": "1c07f8cd",
   "metadata": {},
   "outputs": [],
   "source": [
    "cl_lab = [s[0] for s in m['nfo']['classes'][0][0][0]]\n",
    "cl1 = cl_lab[0] #left -1\n",
    "cl2 = cl_lab[1] #right 1\n",
    "nclasses = len(cl_lab)\n",
    "nevents = len(event_onsets)"
   ]
  },
  {
   "cell_type": "code",
   "execution_count": 6,
   "id": "eff1cead",
   "metadata": {},
   "outputs": [
    {
     "name": "stdout",
     "output_type": "stream",
     "text": [
      "Shape of EEG: (59, 190329)\n",
      "Sample rate: 100\n",
      "Number of channels: 59\n",
      "Channel names: ['AF3', 'AF4', 'F5', 'F3', 'F1', 'Fz', 'F2', 'F4', 'F6', 'FC5', 'FC3', 'FC1', 'FCz', 'FC2', 'FC4', 'FC6', 'CFC7', 'CFC5', 'CFC3', 'CFC1', 'CFC2', 'CFC4', 'CFC6', 'CFC8', 'T7', 'C5', 'C3', 'C1', 'Cz', 'C2', 'C4', 'C6', 'T8', 'CCP7', 'CCP5', 'CCP3', 'CCP1', 'CCP2', 'CCP4', 'CCP6', 'CCP8', 'CP5', 'CP3', 'CP1', 'CPz', 'CP2', 'CP4', 'CP6', 'P5', 'P3', 'P1', 'Pz', 'P2', 'P4', 'P6', 'PO1', 'PO2', 'O1', 'O2']\n",
      "Number of events: (1, 200)\n",
      "Event codes: [-1  1]\n",
      "Class labels: ['left', 'right']\n",
      "Number of classes: 2\n"
     ]
    }
   ],
   "source": [
    "# Print some information\n",
    "print('Shape of EEG:', EEG.shape)\n",
    "print('Sample rate:', sample_rate)\n",
    "print('Number of channels:', nchannels)\n",
    "print('Channel names:', channel_names)\n",
    "print('Number of events:', event_onsets.shape)\n",
    "print('Event codes:', np.unique(event_codes))\n",
    "print('Class labels:', cl_lab)\n",
    "print('Number of classes:', nclasses)"
   ]
  },
  {
   "cell_type": "markdown",
   "id": "75503224",
   "metadata": {},
   "source": [
    "# Preprocessing"
   ]
  },
  {
   "cell_type": "code",
   "execution_count": 7,
   "id": "8314d948",
   "metadata": {},
   "outputs": [
    {
     "name": "stdout",
     "output_type": "stream",
     "text": [
      "Shape of trials[cl1]: (59, 200, 100)\n",
      "Shape of trials[cl2]: (59, 200, 100)\n"
     ]
    }
   ],
   "source": [
    "# Dictionary to store the trials in, each class gets an entry\n",
    "trials = {}\n",
    "\n",
    "win = np.arange(int(0.5*sample_rate), int(2.5*sample_rate))\n",
    "# Length of the time window\n",
    "nsamples = len(win)\n",
    "# Loop over the classes (right, left)\n",
    "for cl, code in zip(cl_lab, np.unique(event_codes)):\n",
    "    \n",
    "    # Extract the onsets for the class\n",
    "    cl_onsets = event_onsets[event_codes == code]\n",
    "    \n",
    "    # Allocate memory for the trials\n",
    "    trials[cl] = np.zeros((nchannels, nsamples, len(cl_onsets)))\n",
    "    # Extract each trial\n",
    "    for i, onset in enumerate(cl_onsets):\n",
    "        trials[cl][:,:,i] = EEG[:, win+onset]\n",
    "        \n",
    "# Some information about the dimensionality of the data (channels x time x trials)\n",
    "print('Shape of trials[cl1]:', trials[cl1].shape)\n",
    "print('Shape of trials[cl2]:', trials[cl2].shape)"
   ]
  },
  {
   "cell_type": "code",
   "execution_count": 8,
   "id": "0a2cc18e",
   "metadata": {},
   "outputs": [],
   "source": [
    "def psd(trials):\n",
    "   \n",
    "    ntrials = trials.shape[2]\n",
    "    trials_PSD = np.zeros((nchannels, 101, ntrials)) #(nsamples/2)+1\n",
    "\n",
    "    # Iterate over trials and channels\n",
    "    for trial in range(ntrials):\n",
    "        for ch in range(nchannels):\n",
    "            # Calculate the PSD\n",
    "            (PSD, freqs) = mlab.psd(trials[ch,:,trial], NFFT=int(nsamples), Fs=sample_rate)\n",
    "            trials_PSD[ch, :, trial] = PSD.ravel()\n",
    "                \n",
    "    return trials_PSD, freqs\n"
   ]
  },
  {
   "cell_type": "code",
   "execution_count": 9,
   "id": "af5f9b7e",
   "metadata": {},
   "outputs": [],
   "source": [
    "psd_r, freqs = psd(trials[cl1])\n",
    "psd_l, freqs = psd(trials[cl2])\n",
    "trials_PSD = {cl1: psd_r, cl2: psd_l}\n"
   ]
  },
  {
   "cell_type": "code",
   "execution_count": 10,
   "id": "c17f5267",
   "metadata": {},
   "outputs": [],
   "source": [
    "\n",
    "def plot_psd(trials_PSD, freqs, chan_ind, chan_lab=None, maxy=None):\n",
    " \n",
    "    plt.figure(figsize=(12,5))\n",
    "    \n",
    "    nchans = len(chan_ind)\n",
    "    \n",
    "    # Maximum of 3 plots per row\n",
    "    nrows = int(np.ceil(nchans / 3))\n",
    "    ncols = min(3, nchans)\n",
    "    \n",
    "    # Enumerate over the channels\n",
    "    for i,ch in enumerate(chan_ind):\n",
    "        # Figure out which subplot to draw to\n",
    "        plt.subplot(nrows,ncols,i+1)\n",
    "    \n",
    "        # Plot the PSD for each class\n",
    "        for cl in trials.keys():\n",
    "            plt.plot(freqs, np.mean(trials_PSD[cl][ch,:,:], axis=1), label=cl)\n",
    "    \n",
    "        \n",
    "        plt.xlim(1,30)\n",
    "        \n",
    "        if maxy != None:\n",
    "            plt.ylim(0,maxy)\n",
    "    \n",
    "        plt.grid()\n",
    "    \n",
    "        plt.xlabel('Frequency (Hz)')\n",
    "        \n",
    "        if chan_lab == None:\n",
    "            plt.title('Channel %d' % (ch+1))\n",
    "        else:\n",
    "            plt.title(chan_lab[i])\n",
    "\n",
    "        plt.legend()\n",
    "        \n",
    "    plt.tight_layout()"
   ]
  },
  {
   "cell_type": "code",
   "execution_count": 11,
   "id": "3eb24bac",
   "metadata": {},
   "outputs": [
    {
     "data": {
      "image/png": "[encoded data removed]",
      "text/plain": [
       "<Figure size 864x360 with 3 Axes>"
      ]
     },
     "metadata": {
      "needs_background": "light"
     },
     "output_type": "display_data"
    }
   ],
   "source": [
    "plot_psd(\n",
    "    trials_PSD,\n",
    "    freqs,\n",
    "    [channel_names.index(ch) for ch in ['C3', 'Cz', 'C4']],\n",
    "    chan_lab=['left', 'center', 'right'],\n",
    "    maxy=500\n",
    ")"
   ]
  },
  {
   "cell_type": "code",
   "execution_count": 12,
   "id": "e1b653b4",
   "metadata": {},
   "outputs": [],
   "source": [
    "\n",
    "def bandpass(trials, lo, hi, sample_rate):\n",
    "\n",
    "\n",
    "    # The iirfilter() function takes the filter order: higher numbers mean a sharper frequency cutoff,\n",
    "    # but the resulting signal might be shifted in time, lower numbers mean a soft frequency cutoff,\n",
    "    # but the resulting signal less distorted in time. It also takes the lower and upper frequency bounds\n",
    "    # to pass, divided by the niquist frequency, which is the sample rate divided by 2:\n",
    "    a, b = scipy.signal.iirfilter(6, [lo/(sample_rate/2.0), hi/(sample_rate/2.0)]) \n",
    " \n",
    "    # Applying the filter to each trial\n",
    "    ntrials = trials.shape[2]\n",
    "    trials_filt = np.zeros((nchannels, nsamples, ntrials))\n",
    "    for i in range(ntrials):\n",
    "        trials_filt[:,:,i] = scipy.signal.filtfilt(a, b, trials[:,:,i], axis=1) #removing high-frequency noise from a signal\n",
    "    \n",
    "    return trials_filt"
   ]
  },
  {
   "cell_type": "code",
   "execution_count": 13,
   "id": "8c898405",
   "metadata": {},
   "outputs": [],
   "source": [
    "trials_filt = {cl1: bandpass(trials[cl1],8, 15, sample_rate),\n",
    "               cl2: bandpass(trials[cl2], 8, 15, sample_rate)}"
   ]
  },
  {
   "cell_type": "code",
   "execution_count": 14,
   "id": "dac1c993",
   "metadata": {},
   "outputs": [
    {
     "data": {
      "image/png": "[encoded data removed]",
      "text/plain": [
       "<Figure size 864x360 with 3 Axes>"
      ]
     },
     "metadata": {
      "needs_background": "light"
     },
     "output_type": "display_data"
    }
   ],
   "source": [
    "psd_r, freqs = psd(trials_filt[cl1])\n",
    "psd_f, freqs = psd(trials_filt[cl2])\n",
    "trials_PSD = {cl1: psd_r, cl2: psd_f}\n",
    "\n",
    "plot_psd(\n",
    "    trials_PSD,\n",
    "    freqs,\n",
    "    [channel_names.index(ch) for ch in ['C3', 'Cz', 'C4']],\n",
    "    chan_lab=['left', 'center', 'right'],\n",
    "    maxy=300\n",
    ")"
   ]
  },
  {
   "cell_type": "markdown",
   "id": "eb235c42",
   "metadata": {},
   "source": [
    "# Model"
   ]
  },
  {
   "cell_type": "code",
   "execution_count": 15,
   "id": "5facfb7c",
   "metadata": {},
   "outputs": [
    {
     "name": "stdout",
     "output_type": "stream",
     "text": [
      "K=  1 val set accuracy: 0.40625   ,test set accuracy: 0.375\n",
      "K=  2 val set accuracy: 0.4375   ,test set accuracy: 0.375\n",
      "K=  3 val set accuracy: 0.40625   ,test set accuracy: 0.375\n",
      "K=  4 val set accuracy: 0.5   ,test set accuracy: 0.325\n",
      "K=  5 val set accuracy: 0.4375   ,test set accuracy: 0.375\n"
     ]
    }
   ],
   "source": [
    "X1 = trials_filt[cl1]\n",
    "X2 = trials_filt[cl2]\n",
    "X = np.concatenate((X1, X2), axis=2)\n",
    "\n",
    "# Flatten the data from 3D (channels x samples x trials) to 2D (samples x channels*trials)\n",
    "nchannels, nsamples, ntrials = X.shape\n",
    "X = X.reshape(nsamples, nchannels*ntrials)\n",
    "\n",
    "# Create the labels for the two classes\n",
    "y1 = np.ones(100)\n",
    "y2 = np.zeros(100)\n",
    "\n",
    "# Concatenate the labels for the two classes\n",
    "y = np.concatenate((y1, y2))\n",
    "\n",
    "\n",
    "X_train, X_test, y_train, y_test = train_test_split(X, y, test_size=0.2,shuffle=True)\n",
    "\n",
    "lr = LogisticRegression(solver='lbfgs')\n",
    "\n",
    "# Use k-fold cross-validation to evaluate the model\n",
    "kfold = KFold(n_splits=5)\n",
    "scores = []\n",
    "i=0\n",
    "for train_index, val_index in kfold.split(X_train):\n",
    "    i+=1\n",
    "    X_train_fold, X_val = X_train[train_index], X_train[val_index]\n",
    "    y_train_fold, y_val = y_train[train_index], y_train[val_index]\n",
    "    lr.fit(X_train_fold, y_train_fold)\n",
    "    y_pred_test = lr.predict(X_test)\n",
    "    y_pred = lr.predict(X_val)\n",
    "    acc = accuracy_score(y_val, y_pred)\n",
    "    acc2=accuracy_score(y_test, y_pred_test)\n",
    "    print('K= ',i,'val set accuracy:', acc, '  ,test set accuracy:', acc2)"
   ]
  },
  {
   "cell_type": "code",
   "execution_count": 16,
   "id": "19004e06",
   "metadata": {},
   "outputs": [
    {
     "name": "stdout",
     "output_type": "stream",
     "text": [
      "K=  1 val set accuracy: 0.875   ,test set accuracy: 0.7\n",
      "K=  2 val set accuracy: 0.875   ,test set accuracy: 0.7\n",
      "K=  3 val set accuracy: 0.8125   ,test set accuracy: 0.7\n",
      "K=  4 val set accuracy: 0.90625   ,test set accuracy: 0.8\n",
      "K=  5 val set accuracy: 0.8125   ,test set accuracy: 0.75\n"
     ]
    }
   ],
   "source": [
    "X1 = trials[cl1]\n",
    "X2 = trials[cl2]\n",
    "X = np.concatenate((X1, X2), axis=2)\n",
    "\n",
    "# Flatten the data from 3D (channels x samples x trials) to 2D (samples x channels*trials)\n",
    "nchannels, nsamples, ntrials = X.shape\n",
    "X = X.reshape(nsamples, nchannels*ntrials)\n",
    "\n",
    "# Create the labels for the two classes\n",
    "y1 = np.ones(100)\n",
    "y2 = np.zeros(100)\n",
    "\n",
    "# Concatenate the labels for the two classes\n",
    "y = np.concatenate((y1, y2))\n",
    "\n",
    "\n",
    "X_train, X_test, y_train, y_test = train_test_split(X, y, test_size=0.2,shuffle=True)\n",
    "\n",
    "lr = LogisticRegression(solver='lbfgs')\n",
    "\n",
    "# Use k-fold cross-validation to evaluate the model\n",
    "kfold = KFold(n_splits=5)\n",
    "scores = []\n",
    "i=0\n",
    "for train_index, val_index in kfold.split(X_train):\n",
    "    i+=1\n",
    "    X_train_fold, X_val = X_train[train_index], X_train[val_index]\n",
    "    y_train_fold, y_val = y_train[train_index], y_train[val_index]\n",
    "    lr.fit(X_train_fold, y_train_fold)\n",
    "    y_pred_test = lr.predict(X_test)\n",
    "    y_pred = lr.predict(X_val)\n",
    "    acc = accuracy_score(y_val, y_pred)\n",
    "    acc2=accuracy_score(y_test, y_pred_test)\n",
    "    print('K= ',i,'val set accuracy:', acc, '  ,test set accuracy:', acc2)\n"
   ]
  },
  {
   "cell_type": "code",
   "execution_count": null,
   "id": "76323cfd",
   "metadata": {},
   "outputs": [],
   "source": []
  }
 ],
 "metadata": {
  "kernelspec": {
   "display_name": "Python 3 (ipykernel)",
   "language": "python",
   "name": "python3"
  },
  "language_info": {
   "codemirror_mode": {
    "name": "ipython",
    "version": 3
   },
   "file_extension": ".py",
   "mimetype": "text/x-python",
   "name": "python",
   "nbconvert_exporter": "python",
   "pygments_lexer": "ipython3",
   "version": "3.9.7"
  }
 },
 "nbformat": 4,
 "nbformat_minor": 5
}
